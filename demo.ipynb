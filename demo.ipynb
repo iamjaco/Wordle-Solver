{
 "cells": [
  {
   "cell_type": "markdown",
   "metadata": {},
   "source": [
    "# A demo of Wordle Solvers\n",
    "To guess an unknown or a target word in fewest attempts,\n",
    "inspired by the Wordle game: https://www.powerlanguage.co.uk/wordle/\n",
    "\n",
    "# Overview\n",
    "- Two wordle solvers for a 5-letter Wordle are provided as follows,\n",
    "\n",
    "### Heuristic solver\n",
    "- Based on high character frequencies\n",
    "- The worse and average number of guesses is 6 and ~3.86\n",
    "- Computes on-the-fly. \n",
    "\n",
    "### Max Information Gain Solver\n",
    "- Based on maximizing information gain\n",
    "- The worse and average number of guess is 5 and ~3.60\n",
    "- Computes slower and is optimized by pre-computation\n",
    "\n",
    "### Users can...\n",
    "- Interact with the solvers to guess an unknown word by providing responses\n",
    "- Examine the performance of the solvers by providing different target words\n",
    "- Specify different \"first-guess\" words and find the optimal first-guess by checking the solver performance against all target words"
   ]
  },
  {
   "cell_type": "markdown",
   "metadata": {},
   "source": [
    "# 1. Import list of words"
   ]
  },
  {
   "cell_type": "code",
   "execution_count": null,
   "metadata": {},
   "outputs": [],
   "source": [
    "from main import get_words\n",
    "\n",
    "small_words = get_words(\"small\")\n",
    "large_words = get_words(\"large\")\n",
    "print(\"Small size of words: \", len(small_words))\n",
    "print(\"Large size of words: \", len(large_words))"
   ]
  },
  {
   "cell_type": "markdown",
   "metadata": {},
   "source": [
    "# 2. Create a Wordle Object"
   ]
  },
  {
   "cell_type": "code",
   "execution_count": 2,
   "metadata": {},
   "outputs": [
    {
     "name": "stdout",
     "output_type": "stream",
     "text": [
      "Wordle Response Representation\n",
      " A 5-character response with the format:\n",
      "- \"0\": wrong letter\n",
      "- \"1\": correct letter but wrong position\n",
      "- \"2\": correct letter and correct position\n"
     ]
    }
   ],
   "source": [
    "from Wordle import Wordle\n",
    "\n",
    "wordle = Wordle(5, small_words)\n",
    "print(\"Wordle Response Representation\\n\", wordle.get_response_description())"
   ]
  },
  {
   "cell_type": "markdown",
   "metadata": {},
   "source": [
    "# 3. Import Solvers"
   ]
  },
  {
   "cell_type": "code",
   "execution_count": 3,
   "metadata": {},
   "outputs": [],
   "source": [
    "from HeuristicWordlePlayer import HeuristicWordlePlayer\n",
    "from MaxInformationGainWordlePlayer import MaxInformationGainWordlePlayer"
   ]
  },
  {
   "cell_type": "markdown",
   "metadata": {},
   "source": [
    "# 4. Example: Heuristic Solver"
   ]
  },
  {
   "cell_type": "markdown",
   "metadata": {},
   "source": [
    "### 4.1. Initiate a solver object"
   ]
  },
  {
   "cell_type": "code",
   "execution_count": null,
   "metadata": {},
   "outputs": [],
   "source": [
    "heuristic_player = HeuristicWordlePlayer(wordle, guess_list=small_words)"
   ]
  },
  {
   "cell_type": "markdown",
   "metadata": {},
   "source": [
    "### 4.2. Play interactively with an unknown target"
   ]
  },
  {
   "cell_type": "code",
   "execution_count": 6,
   "metadata": {
    "scrolled": false
   },
   "outputs": [
    {
     "name": "stdout",
     "output_type": "stream",
     "text": [
      "\n",
      "TARGET:  UNKNOWN\n",
      "# Guesses: 1, Picked Guess: alert (Score: 4117.00), # Available Candidates: 2315\n",
      "Type the response...\n",
      "A 5-character response with the format:\n",
      "- \"0\": wrong letter\n",
      "- \"1\": correct letter but wrong position\n",
      "- \"2\": correct letter and correct position\n",
      "00100\n",
      "\n",
      "# Guesses: 2, Picked Guess: scion (Score: 270.00), # Available Candidates: 145\n",
      "Type the response...\n",
      "A 5-character response with the format:\n",
      "- \"0\": wrong letter\n",
      "- \"1\": correct letter but wrong position\n",
      "- \"2\": correct letter and correct position\n",
      "01101\n",
      "\n",
      "# Guesses: 3, Picked Guess: match (Score: 2.00), # Available Candidates: 3\n",
      "Type the response...\n",
      "A 5-character response with the format:\n",
      "- \"0\": wrong letter\n",
      "- \"1\": correct letter but wrong position\n",
      "- \"2\": correct letter and correct position\n",
      "00020\n",
      "\n",
      "# Guesses: 4, Picked Guess: wince (Score: 0.00), # Available Candidates: 1\n",
      "Type the response...\n",
      "A 5-character response with the format:\n",
      "- \"0\": wrong letter\n",
      "- \"1\": correct letter but wrong position\n",
      "- \"2\": correct letter and correct position\n",
      "22222\n",
      "\n",
      "Congrats! Total Guesses: 4\n"
     ]
    }
   ],
   "source": [
    "from main import interactive_play\n",
    "\n",
    "interactive_play(wordle, heuristic_player, with_target=False)"
   ]
  },
  {
   "cell_type": "markdown",
   "metadata": {},
   "source": [
    "### (solving the daily Wordle)"
   ]
  },
  {
   "cell_type": "markdown",
   "metadata": {},
   "source": [
    "![alt text](img/solve_wordle_heuristic_alert_20220122.png \"Solving Wordle on 2022/01/22\")"
   ]
  },
  {
   "cell_type": "markdown",
   "metadata": {},
   "source": [
    "### 4.3. Examinate the performance with a target given"
   ]
  },
  {
   "cell_type": "code",
   "execution_count": 7,
   "metadata": {},
   "outputs": [
    {
     "name": "stdout",
     "output_type": "stream",
     "text": [
      "## Input Your Own Target? (<5-letter word>/empty):\n",
      "laugh\n",
      "\n",
      "TARGET:  laugh\n",
      "# Guesses: 1, Picked Guess: alert (Score: 4117.00), # Available Candidates: 2315\n",
      "# Responses: 11000\n",
      "(... click Enter to proceed ...)\n",
      "\n",
      "# Guesses: 2, Picked Guess: noisy (Score: 78.00), # Available Candidates: 60\n",
      "# Responses: 00000\n",
      "(... click Enter to proceed ...)\n",
      "\n",
      "# Guesses: 3, Picked Guess: chump (Score: 12.00), # Available Candidates: 7\n",
      "# Responses: 01200\n",
      "(... click Enter to proceed ...)\n",
      "\n",
      "# Guesses: 4, Picked Guess: laugh (Score: 0.00), # Available Candidates: 1\n",
      "# Responses: 22222\n",
      "Congrats! Total Guesses: 4\n"
     ]
    }
   ],
   "source": [
    "interactive_play(wordle, heuristic_player, with_target=True)"
   ]
  },
  {
   "cell_type": "markdown",
   "metadata": {},
   "source": [
    "### 4.4. Specify a different \"first-guess\" other than the default "
   ]
  },
  {
   "cell_type": "code",
   "execution_count": 8,
   "metadata": {},
   "outputs": [
    {
     "name": "stdout",
     "output_type": "stream",
     "text": [
      "## Input Your Own Target? (<5-letter word>/empty):\n",
      "laugh\n",
      "\n",
      "TARGET:  laugh\n",
      "# Guesses: 1, Picked Guess: stare (Score: 4087.00), # Available Candidates: 2315\n",
      "# Responses: 00100\n",
      "(... click Enter to proceed ...)\n",
      "\n",
      "# Guesses: 2, Picked Guess: login (Score: 202.00), # Available Candidates: 127\n",
      "# Responses: 20100\n",
      "(... click Enter to proceed ...)\n",
      "\n",
      "# Guesses: 3, Picked Guess: laugh (Score: 0.00), # Available Candidates: 1\n",
      "# Responses: 22222\n",
      "Congrats! Total Guesses: 3\n"
     ]
    }
   ],
   "source": [
    "interactive_play(wordle, heuristic_player, with_target=True, first_guess=\"stare\")"
   ]
  },
  {
   "cell_type": "markdown",
   "metadata": {},
   "source": [
    "### 4.5. Examinate the overall performance (number of guesses) of a \"first-guess\" among all possible targets"
   ]
  },
  {
   "cell_type": "code",
   "execution_count": 9,
   "metadata": {},
   "outputs": [
    {
     "name": "stderr",
     "output_type": "stream",
     "text": [
      "100%|██████████| 2315/2315 [00:51<00:00, 42.02it/s]"
     ]
    },
    {
     "name": "stdout",
     "output_type": "stream",
     "text": [
      "Guess: stare (Score: 0.00), Mean: 3.822, Min: 1, Max: 7, Count of Guesses: [1] 1 [2] 23 [3] 724 [4] 1231 [5] 313 [6] 21 [7] 2\n"
     ]
    },
    {
     "name": "stderr",
     "output_type": "stream",
     "text": [
      "\n"
     ]
    },
    {
     "data": {
      "text/plain": [
       "'Guess: stare (Score: 0.00), Mean: 3.822, Min: 1, Max: 7, Count of Guesses: [1] 1 [2] 23 [3] 724 [4] 1231 [5] 313 [6] 21 [7] 2'"
      ]
     },
     "execution_count": 9,
     "metadata": {},
     "output_type": "execute_result"
    }
   ],
   "source": [
    "from main import get_first_guess_performance\n",
    "\n",
    "get_first_guess_performance(wordle, heuristic_player, first_guess=\"stare\")"
   ]
  },
  {
   "cell_type": "markdown",
   "metadata": {},
   "source": [
    "### 4.6. Check the top-K \"first-guess\" (with the highest internal solver score) performances"
   ]
  },
  {
   "cell_type": "code",
   "execution_count": 10,
   "metadata": {
    "scrolled": true
   },
   "outputs": [
    {
     "name": "stderr",
     "output_type": "stream",
     "text": [
      "  0%|          | 4/2315 [00:00<00:58, 39.30it/s]"
     ]
    },
    {
     "name": "stdout",
     "output_type": "stream",
     "text": [
      "output/top_scores_HeuristicWordlePlayer.txt saved.\n",
      "\n",
      "## Start Running...\n"
     ]
    },
    {
     "name": "stderr",
     "output_type": "stream",
     "text": [
      "100%|██████████| 2315/2315 [00:54<00:00, 42.64it/s]\n",
      "  0%|          | 4/2315 [00:00<01:00, 38.11it/s]"
     ]
    },
    {
     "name": "stdout",
     "output_type": "stream",
     "text": [
      "Guess: alert (Score: 0.00), Mean: 3.860, Min: 1, Max: 7, Count of Guesses: [1] 1 [2] 25 [3] 662 [4] 1269 [5] 329 [6] 26 [7] 3\n"
     ]
    },
    {
     "name": "stderr",
     "output_type": "stream",
     "text": [
      "100%|██████████| 2315/2315 [00:54<00:00, 42.27it/s]\n",
      "  0%|          | 5/2315 [00:00<00:54, 42.77it/s]"
     ]
    },
    {
     "name": "stdout",
     "output_type": "stream",
     "text": [
      "Guess: alter (Score: 0.00), Mean: 3.855, Min: 1, Max: 6, Count of Guesses: [1] 1 [2] 25 [3] 649 [4] 1296 [5] 322 [6] 22\n"
     ]
    },
    {
     "name": "stderr",
     "output_type": "stream",
     "text": [
      "100%|██████████| 2315/2315 [01:04<00:00, 35.69it/s]"
     ]
    },
    {
     "name": "stdout",
     "output_type": "stream",
     "text": [
      "Guess: later (Score: 0.00), Mean: 3.859, Min: 1, Max: 6, Count of Guesses: [1] 1 [2] 34 [3] 643 [4] 1277 [5] 333 [6] 27\n",
      "output/top_guesses_performance_HeuristicWordlePlayer.txt saved.\n"
     ]
    },
    {
     "name": "stderr",
     "output_type": "stream",
     "text": [
      "\n"
     ]
    }
   ],
   "source": [
    "from main import check_topK_guesses_performance\n",
    "\n",
    "check_topK_guesses_performance(wordle, heuristic_player, topK=3)"
   ]
  },
  {
   "cell_type": "markdown",
   "metadata": {},
   "source": [
    "# 5. Max Information Gain Solver\n",
    "- the usage is similar to the heuristic solver\n",
    "- takes more time during pre-computation and examination of performance on all possible target words\n",
    "- use a larger word list for guessing improves the performance (but drastically slows down the computation)"
   ]
  },
  {
   "cell_type": "markdown",
   "metadata": {},
   "source": [
    "### 5.1. Initiate a solver object with a small-size word list and specifies the cache name for precomputation"
   ]
  },
  {
   "cell_type": "code",
   "execution_count": 14,
   "metadata": {},
   "outputs": [],
   "source": [
    "mig_player = MaxInformationGainWordlePlayer(\n",
    "    wordle, guess_list=small_words, precompute=\"small\")"
   ]
  },
  {
   "cell_type": "markdown",
   "metadata": {},
   "source": [
    "### 5.2. Play interactively with an unknown target"
   ]
  },
  {
   "cell_type": "code",
   "execution_count": 15,
   "metadata": {
    "scrolled": false
   },
   "outputs": [
    {
     "name": "stdout",
     "output_type": "stream",
     "text": [
      "\n",
      "TARGET:  UNKNOWN\n",
      "# Guesses: 1, Picked Guess: raise (Score: 4.07), # Available Candidates: 2315\n",
      "Type the response...\n",
      "A 5-character response with the format:\n",
      "- \"0\": wrong letter\n",
      "- \"1\": correct letter but wrong position\n",
      "- \"2\": correct letter and correct position\n",
      "00102\n",
      "\n",
      "# Guesses: 2, Picked Guess: lingo (Score: 2.59), # Available Candidates: 25\n",
      "Type the response...\n",
      "A 5-character response with the format:\n",
      "- \"0\": wrong letter\n",
      "- \"1\": correct letter but wrong position\n",
      "- \"2\": correct letter and correct position\n",
      "02200\n",
      "\n",
      "# Guesses: 3, Picked Guess: rower (Score: 0.69), # Available Candidates: 2\n",
      "Type the response...\n",
      "A 5-character response with the format:\n",
      "- \"0\": wrong letter\n",
      "- \"1\": correct letter but wrong position\n",
      "- \"2\": correct letter and correct position\n",
      "00110\n",
      "\n",
      "# Guesses: 4, Picked Guess: wince (Score: 0.00), # Available Candidates: 1\n",
      "Type the response...\n",
      "A 5-character response with the format:\n",
      "- \"0\": wrong letter\n",
      "- \"1\": correct letter but wrong position\n",
      "- \"2\": correct letter and correct position\n",
      "22222\n",
      "\n",
      "Congrats! Total Guesses: 4\n"
     ]
    }
   ],
   "source": [
    "interactive_play(wordle, mig_player, with_target=False)"
   ]
  },
  {
   "cell_type": "markdown",
   "metadata": {},
   "source": [
    "### (solving the daily Wordle)"
   ]
  },
  {
   "cell_type": "markdown",
   "metadata": {},
   "source": [
    "![alt text](img/solve_wordle_max_entropy_raise_20220122.png \"Solving Wordle on 2022/01/22\")"
   ]
  },
  {
   "cell_type": "markdown",
   "metadata": {},
   "source": [
    "### 5.3. Initiate a solver object with a large-size word list and specifies the cache name for precomputation"
   ]
  },
  {
   "cell_type": "code",
   "execution_count": null,
   "metadata": {},
   "outputs": [],
   "source": [
    "large_mig_player = MaxInformationGainWordlePlayer(\n",
    "    wordle, guess_list=large_words, precompute=\"large\")"
   ]
  },
  {
   "cell_type": "markdown",
   "metadata": {},
   "source": [
    "### 5.4. Check the top-K \"first-guess\" (with the highest internal solver score) performances"
   ]
  },
  {
   "cell_type": "code",
   "execution_count": null,
   "metadata": {
    "scrolled": true
   },
   "outputs": [],
   "source": [
    "check_topK_guesses_performance(wordle, large_mig_player, topK=3)"
   ]
  }
 ],
 "metadata": {
  "kernelspec": {
   "display_name": "Python 3",
   "language": "python",
   "name": "python3"
  },
  "language_info": {
   "codemirror_mode": {
    "name": "ipython",
    "version": 3
   },
   "file_extension": ".py",
   "mimetype": "text/x-python",
   "name": "python",
   "nbconvert_exporter": "python",
   "pygments_lexer": "ipython3",
   "version": "3.5.7"
  }
 },
 "nbformat": 4,
 "nbformat_minor": 2
}
